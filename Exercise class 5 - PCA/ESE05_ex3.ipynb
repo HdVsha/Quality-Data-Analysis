{
 "cells": [
  {
   "attachments": {},
   "cell_type": "markdown",
   "metadata": {},
   "source": [
    "# EXERCISE 3\n",
    "\n",
    "Using the data of Exercise 2, estimate the scores for all the observations by projecting the input variables onto the space spanned by the first 2 PCs estimated on the first m = 40 data."
   ]
  },
  {
   "cell_type": "code",
   "execution_count": 7,
   "metadata": {},
   "outputs": [
    {
     "data": {
      "text/html": [
       "<div>\n",
       "<style scoped>\n",
       "    .dataframe tbody tr th:only-of-type {\n",
       "        vertical-align: middle;\n",
       "    }\n",
       "\n",
       "    .dataframe tbody tr th {\n",
       "        vertical-align: top;\n",
       "    }\n",
       "\n",
       "    .dataframe thead th {\n",
       "        text-align: right;\n",
       "    }\n",
       "</style>\n",
       "<table border=\"1\" class=\"dataframe\">\n",
       "  <thead>\n",
       "    <tr style=\"text-align: right;\">\n",
       "      <th></th>\n",
       "      <th>Ph1</th>\n",
       "      <th>Ph2</th>\n",
       "      <th>Ph3</th>\n",
       "    </tr>\n",
       "  </thead>\n",
       "  <tbody>\n",
       "    <tr>\n",
       "      <th>0</th>\n",
       "      <td>0.801765</td>\n",
       "      <td>1.224439</td>\n",
       "      <td>0.460368</td>\n",
       "    </tr>\n",
       "    <tr>\n",
       "      <th>1</th>\n",
       "      <td>1.529265</td>\n",
       "      <td>2.354552</td>\n",
       "      <td>0.512780</td>\n",
       "    </tr>\n",
       "    <tr>\n",
       "      <th>2</th>\n",
       "      <td>-0.767775</td>\n",
       "      <td>0.185170</td>\n",
       "      <td>-0.669498</td>\n",
       "    </tr>\n",
       "    <tr>\n",
       "      <th>3</th>\n",
       "      <td>0.983894</td>\n",
       "      <td>1.103092</td>\n",
       "      <td>0.237085</td>\n",
       "    </tr>\n",
       "    <tr>\n",
       "      <th>4</th>\n",
       "      <td>0.678907</td>\n",
       "      <td>1.879489</td>\n",
       "      <td>0.279479</td>\n",
       "    </tr>\n",
       "  </tbody>\n",
       "</table>\n",
       "</div>"
      ],
      "text/plain": [
       "        Ph1       Ph2       Ph3\n",
       "0  0.801765  1.224439  0.460368\n",
       "1  1.529265  2.354552  0.512780\n",
       "2 -0.767775  0.185170 -0.669498\n",
       "3  0.983894  1.103092  0.237085\n",
       "4  0.678907  1.879489  0.279479"
      ]
     },
     "execution_count": 7,
     "metadata": {},
     "output_type": "execute_result"
    }
   ],
   "source": [
    "# Import the necessary libraries\n",
    "import numpy as np\n",
    "import matplotlib.pyplot as plt\n",
    "import pandas as pd\n",
    "\n",
    "# Import the dataset\n",
    "data = pd.read_csv('ESE05_ex2.csv')\n",
    "\n",
    "# Print the first 5 rows of the dataset\n",
    "data.head()"
   ]
  },
  {
   "cell_type": "code",
   "execution_count": 8,
   "metadata": {},
   "outputs": [
    {
     "name": "stdout",
     "output_type": "stream",
     "text": [
      "             Ph1        Ph2        Ph3\n",
      "count  40.000000  40.000000  40.000000\n",
      "mean    0.670381   1.893018   0.197875\n",
      "std     0.776173   0.944301   0.557657\n",
      "min    -1.152475   0.185170  -0.887846\n",
      "25%     0.071758   1.275474  -0.088188\n",
      "50%     0.733344   1.824113   0.314454\n",
      "75%     1.127810   2.596343   0.527662\n",
      "max     2.508370   4.136243   1.710663\n"
     ]
    }
   ],
   "source": [
    "# Extract a subset of the data with only the first 40 rows\n",
    "data40 = data.iloc[:40, :]\n",
    "\n",
    "# Print the size of the new dataset\n",
    "print(data40.describe())"
   ]
  },
  {
   "cell_type": "code",
   "execution_count": 9,
   "metadata": {},
   "outputs": [
    {
     "data": {
      "text/html": [
       "<div>\n",
       "<style scoped>\n",
       "    .dataframe tbody tr th:only-of-type {\n",
       "        vertical-align: middle;\n",
       "    }\n",
       "\n",
       "    .dataframe tbody tr th {\n",
       "        vertical-align: top;\n",
       "    }\n",
       "\n",
       "    .dataframe thead th {\n",
       "        text-align: right;\n",
       "    }\n",
       "</style>\n",
       "<table border=\"1\" class=\"dataframe\">\n",
       "  <thead>\n",
       "    <tr style=\"text-align: right;\">\n",
       "      <th></th>\n",
       "      <th>Ph1</th>\n",
       "      <th>Ph2</th>\n",
       "      <th>Ph3</th>\n",
       "    </tr>\n",
       "  </thead>\n",
       "  <tbody>\n",
       "    <tr>\n",
       "      <th>count</th>\n",
       "      <td>4.000000e+01</td>\n",
       "      <td>4.000000e+01</td>\n",
       "      <td>40.000000</td>\n",
       "    </tr>\n",
       "    <tr>\n",
       "      <th>mean</th>\n",
       "      <td>-1.110223e-16</td>\n",
       "      <td>1.443290e-16</td>\n",
       "      <td>0.000000</td>\n",
       "    </tr>\n",
       "    <tr>\n",
       "      <th>std</th>\n",
       "      <td>1.000000e+00</td>\n",
       "      <td>1.000000e+00</td>\n",
       "      <td>1.000000</td>\n",
       "    </tr>\n",
       "    <tr>\n",
       "      <th>min</th>\n",
       "      <td>-2.348518e+00</td>\n",
       "      <td>-1.808585e+00</td>\n",
       "      <td>-1.946935</td>\n",
       "    </tr>\n",
       "    <tr>\n",
       "      <th>25%</th>\n",
       "      <td>-7.712494e-01</td>\n",
       "      <td>-6.539699e-01</td>\n",
       "      <td>-0.512973</td>\n",
       "    </tr>\n",
       "    <tr>\n",
       "      <th>50%</th>\n",
       "      <td>8.112069e-02</td>\n",
       "      <td>-7.296887e-02</td>\n",
       "      <td>0.209050</td>\n",
       "    </tr>\n",
       "    <tr>\n",
       "      <th>75%</th>\n",
       "      <td>5.893392e-01</td>\n",
       "      <td>7.448102e-01</td>\n",
       "      <td>0.591380</td>\n",
       "    </tr>\n",
       "    <tr>\n",
       "      <th>max</th>\n",
       "      <td>2.368016e+00</td>\n",
       "      <td>2.375541e+00</td>\n",
       "      <td>2.712758</td>\n",
       "    </tr>\n",
       "  </tbody>\n",
       "</table>\n",
       "</div>"
      ],
      "text/plain": [
       "                Ph1           Ph2        Ph3\n",
       "count  4.000000e+01  4.000000e+01  40.000000\n",
       "mean  -1.110223e-16  1.443290e-16   0.000000\n",
       "std    1.000000e+00  1.000000e+00   1.000000\n",
       "min   -2.348518e+00 -1.808585e+00  -1.946935\n",
       "25%   -7.712494e-01 -6.539699e-01  -0.512973\n",
       "50%    8.112069e-02 -7.296887e-02   0.209050\n",
       "75%    5.893392e-01  7.448102e-01   0.591380\n",
       "max    2.368016e+00  2.375541e+00   2.712758"
      ]
     },
     "execution_count": 9,
     "metadata": {},
     "output_type": "execute_result"
    }
   ],
   "source": [
    "# Standardize the data by subtracting the mean and dividing by the standard deviation\n",
    "data40_std = (data40 - data40.mean()) / data40.std()\n",
    "\n",
    "data40_std.describe()"
   ]
  },
  {
   "cell_type": "code",
   "execution_count": 10,
   "metadata": {},
   "outputs": [
    {
     "name": "stdout",
     "output_type": "stream",
     "text": [
      "Eigenvalues \n",
      " [2.26040708 0.63278177 0.10681116]\n",
      "\n",
      "Eigenvectors \n",
      " [[ 0.63109812  0.47862724  0.6104352 ]\n",
      " [-0.25959246  0.87188528 -0.41524428]\n",
      " [ 0.73097669 -0.10359551 -0.67449318]]\n",
      "\n",
      "Explained variance ratio \n",
      " [0.75346903 0.21092726 0.03560372]\n",
      "\n",
      "Cumulative explained variance ratio \n",
      " [0.75346903 0.96439628 1.        ]\n"
     ]
    }
   ],
   "source": [
    "# import the libraries for PCA\n",
    "from sklearn.decomposition import PCA\n",
    "\n",
    "# Create the PCA object\n",
    "pca_std = PCA()\n",
    "# Fit the PCA object to the data\n",
    "pca_std.fit(data40_std)\n",
    "# Print the eigenvalues\n",
    "print(\"Eigenvalues \\n\", pca_std.explained_variance_)\n",
    "# Print the eigenvectors\n",
    "print(\"\\nEigenvectors \\n\", pca_std.components_)\n",
    "# Print the explained variance ratio\n",
    "print(\"\\nExplained variance ratio \\n\", pca_std.explained_variance_ratio_)\n",
    "# Print the cumulative explained variance ratio\n",
    "print(\"\\nCumulative explained variance ratio \\n\", np.cumsum(pca_std.explained_variance_ratio_))\n"
   ]
  },
  {
   "attachments": {},
   "cell_type": "markdown",
   "metadata": {},
   "source": [
    "> Plot the scree plot to compare the eigenvalues."
   ]
  },
  {
   "cell_type": "code",
   "execution_count": 11,
   "metadata": {},
   "outputs": [
    {
     "data": {
      "image/png": "[encoded data removed]",
      "text/plain": [
       "<Figure size 640x480 with 1 Axes>"
      ]
     },
     "metadata": {},
     "output_type": "display_data"
    }
   ],
   "source": [
    "# Plot the eigenvalues (scree plot)\n",
    "plt.plot(pca_std.explained_variance_, 'o-')\n",
    "plt.xlabel('Component number')\n",
    "plt.ylabel('Eigenvalue')\n",
    "plt.title('Scree plot')\n",
    "plt.show()"
   ]
  },
  {
   "attachments": {},
   "cell_type": "markdown",
   "metadata": {},
   "source": [
    "> Now compute the scores for all the observations by projecting the input variables onto the space spanned by the first 2 PCs estimated on the first m = 40 data.\n",
    ">\n",
    "> In case of PCA on the non-standardized data:\n",
    "> $$ \\mathbf{z_i} = (\\mathbf{X} - \\bar{\\mathbf{x}}) \\mathbf{u_i}, \\ i = 1,2 $$\n",
    ">\n",
    "> In case of PCA on the standardized data:\n",
    "> $$ \\mathbf{z_i} = \\mathbf{X}^* \\mathbf{u_i}, \\ i = 1,2 $$\n",
    "> where $\\mathbf{X}^*$ is the standardized data matrix.\n"
   ]
  },
  {
   "cell_type": "code",
   "execution_count": 12,
   "metadata": {},
   "outputs": [
    {
     "data": {
      "text/html": [
       "<div>\n",
       "<style scoped>\n",
       "    .dataframe tbody tr th:only-of-type {\n",
       "        vertical-align: middle;\n",
       "    }\n",
       "\n",
       "    .dataframe tbody tr th {\n",
       "        vertical-align: top;\n",
       "    }\n",
       "\n",
       "    .dataframe thead th {\n",
       "        text-align: right;\n",
       "    }\n",
       "</style>\n",
       "<table border=\"1\" class=\"dataframe\">\n",
       "  <thead>\n",
       "    <tr style=\"text-align: right;\">\n",
       "      <th></th>\n",
       "      <th>Ph1</th>\n",
       "      <th>Ph2</th>\n",
       "      <th>Ph3</th>\n",
       "    </tr>\n",
       "  </thead>\n",
       "  <tbody>\n",
       "    <tr>\n",
       "      <th>count</th>\n",
       "      <td>50.000000</td>\n",
       "      <td>50.000000</td>\n",
       "      <td>50.000000</td>\n",
       "    </tr>\n",
       "    <tr>\n",
       "      <th>mean</th>\n",
       "      <td>-0.014128</td>\n",
       "      <td>-0.051510</td>\n",
       "      <td>-0.069929</td>\n",
       "    </tr>\n",
       "    <tr>\n",
       "      <th>std</th>\n",
       "      <td>0.912933</td>\n",
       "      <td>1.022038</td>\n",
       "      <td>0.930891</td>\n",
       "    </tr>\n",
       "    <tr>\n",
       "      <th>min</th>\n",
       "      <td>-2.348518</td>\n",
       "      <td>-1.808585</td>\n",
       "      <td>-1.946935</td>\n",
       "    </tr>\n",
       "    <tr>\n",
       "      <th>25%</th>\n",
       "      <td>-0.509515</td>\n",
       "      <td>-0.804393</td>\n",
       "      <td>-0.582474</td>\n",
       "    </tr>\n",
       "    <tr>\n",
       "      <th>50%</th>\n",
       "      <td>0.013467</td>\n",
       "      <td>-0.123363</td>\n",
       "      <td>-0.105645</td>\n",
       "    </tr>\n",
       "    <tr>\n",
       "      <th>75%</th>\n",
       "      <td>0.502223</td>\n",
       "      <td>0.693697</td>\n",
       "      <td>0.531263</td>\n",
       "    </tr>\n",
       "    <tr>\n",
       "      <th>max</th>\n",
       "      <td>2.368016</td>\n",
       "      <td>2.375541</td>\n",
       "      <td>2.712758</td>\n",
       "    </tr>\n",
       "  </tbody>\n",
       "</table>\n",
       "</div>"
      ],
      "text/plain": [
       "             Ph1        Ph2        Ph3\n",
       "count  50.000000  50.000000  50.000000\n",
       "mean   -0.014128  -0.051510  -0.069929\n",
       "std     0.912933   1.022038   0.930891\n",
       "min    -2.348518  -1.808585  -1.946935\n",
       "25%    -0.509515  -0.804393  -0.582474\n",
       "50%     0.013467  -0.123363  -0.105645\n",
       "75%     0.502223   0.693697   0.531263\n",
       "max     2.368016   2.375541   2.712758"
      ]
     },
     "execution_count": 12,
     "metadata": {},
     "output_type": "execute_result"
    }
   ],
   "source": [
    "# Standardize the data by subtracting the mean and dividing by the standard deviation\n",
    "data_std = (data - data40.mean()) / data40.std()\n",
    "\n",
    "data_std.describe()"
   ]
  },
  {
   "cell_type": "code",
   "execution_count": 13,
   "metadata": {},
   "outputs": [
    {
     "data": {
      "text/html": [
       "<div>\n",
       "<style scoped>\n",
       "    .dataframe tbody tr th:only-of-type {\n",
       "        vertical-align: middle;\n",
       "    }\n",
       "\n",
       "    .dataframe tbody tr th {\n",
       "        vertical-align: top;\n",
       "    }\n",
       "\n",
       "    .dataframe thead th {\n",
       "        text-align: right;\n",
       "    }\n",
       "</style>\n",
       "<table border=\"1\" class=\"dataframe\">\n",
       "  <thead>\n",
       "    <tr style=\"text-align: right;\">\n",
       "      <th></th>\n",
       "      <th>z1</th>\n",
       "      <th>z2</th>\n",
       "      <th>z3</th>\n",
       "    </tr>\n",
       "  </thead>\n",
       "  <tbody>\n",
       "    <tr>\n",
       "      <th>0</th>\n",
       "      <td>0.055288</td>\n",
       "      <td>-0.856707</td>\n",
       "      <td>-0.120407</td>\n",
       "    </tr>\n",
       "    <tr>\n",
       "      <th>1</th>\n",
       "      <td>1.276992</td>\n",
       "      <td>-0.095601</td>\n",
       "      <td>0.377358</td>\n",
       "    </tr>\n",
       "    <tr>\n",
       "      <th>2</th>\n",
       "      <td>-2.984452</td>\n",
       "      <td>-0.450018</td>\n",
       "      <td>-0.117951</td>\n",
       "    </tr>\n",
       "    <tr>\n",
       "      <th>3</th>\n",
       "      <td>-0.102546</td>\n",
       "      <td>-0.863401</td>\n",
       "      <td>0.334493</td>\n",
       "    </tr>\n",
       "    <tr>\n",
       "      <th>4</th>\n",
       "      <td>0.089403</td>\n",
       "      <td>-0.076107</td>\n",
       "      <td>-0.089187</td>\n",
       "    </tr>\n",
       "  </tbody>\n",
       "</table>\n",
       "</div>"
      ],
      "text/plain": [
       "         z1        z2        z3\n",
       "0  0.055288 -0.856707 -0.120407\n",
       "1  1.276992 -0.095601  0.377358\n",
       "2 -2.984452 -0.450018 -0.117951\n",
       "3 -0.102546 -0.863401  0.334493\n",
       "4  0.089403 -0.076107 -0.089187"
      ]
     },
     "execution_count": 13,
     "metadata": {},
     "output_type": "execute_result"
    }
   ],
   "source": [
    "# Compute the scores\n",
    "scores = pca_std.transform(data_std)\n",
    "# create a dataframe with the scores\n",
    "scores_df = pd.DataFrame(scores, columns = ['z1', 'z2', 'z3'])\n",
    "# Print the first rows of the scores dataframe\n",
    "scores_df.head()"
   ]
  },
  {
   "cell_type": "code",
   "execution_count": 14,
   "metadata": {},
   "outputs": [
    {
     "data": {
      "image/png": "[encoded data removed]",
      "text/plain": [
       "<Figure size 640x480 with 1 Axes>"
      ]
     },
     "metadata": {},
     "output_type": "display_data"
    }
   ],
   "source": [
    "# Create a scatterplot with the first 40 values of the two scores \n",
    "plt.scatter(scores_df['z1'][:40], scores_df['z2'][:40], label='First 40 values')\n",
    "# Add the rest of the values to the scatterplot with a different color\n",
    "plt.scatter(scores_df['z1'][40:], scores_df['z2'][40:], color='r', label='All the rest')\n",
    "plt.xlabel('z1')\n",
    "plt.ylabel('z2')\n",
    "plt.title('Scatterplot of z1 vs z2')\n",
    "plt.legend()\n",
    "plt.show()"
   ]
  }
 ],
 "metadata": {
  "kernelspec": {
   "display_name": "qda",
   "language": "python",
   "name": "python3"
  },
  "language_info": {
   "codemirror_mode": {
    "name": "ipython",
    "version": 3
   },
   "file_extension": ".py",
   "mimetype": "text/x-python",
   "name": "python",
   "nbconvert_exporter": "python",
   "pygments_lexer": "ipython3",
   "version": "3.9.15"
  },
  "orig_nbformat": 4,
  "vscode": {
   "interpreter": {
    "hash": "d717af6dd7bf581d6248419f276a5c41cb14dbf2eb68781a99eea88c8ccd834c"
   }
  }
 },
 "nbformat": 4,
 "nbformat_minor": 2
}
